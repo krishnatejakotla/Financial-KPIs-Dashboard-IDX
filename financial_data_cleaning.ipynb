{
  "nbformat": 4,
  "nbformat_minor": 0,
  "metadata": {
    "colab": {
      "provenance": []
    },
    "kernelspec": {
      "name": "python3",
      "display_name": "Python 3"
    },
    "language_info": {
      "name": "python"
    }
  },
  "cells": [
    {
      "cell_type": "code",
      "execution_count": 3,
      "metadata": {
        "colab": {
          "base_uri": "https://localhost:8080/"
        },
        "id": "PZUxODtDma6l",
        "outputId": "9499bc31-6be0-4c12-f173-0f7abfa87bcc"
      },
      "outputs": [
        {
          "output_type": "stream",
          "name": "stdout",
          "text": [
            "<class 'pandas.core.frame.DataFrame'>\n",
            "RangeIndex: 89243 entries, 0 to 89242\n",
            "Data columns (total 7 columns):\n",
            " #   Column   Non-Null Count  Dtype  \n",
            "---  ------   --------------  -----  \n",
            " 0   symbol   89243 non-null  object \n",
            " 1   account  89243 non-null  object \n",
            " 2   type     89243 non-null  object \n",
            " 3   2020     83988 non-null  float64\n",
            " 4   2021     84474 non-null  float64\n",
            " 5   2022     83634 non-null  float64\n",
            " 6   2023     69831 non-null  float64\n",
            "dtypes: float64(4), object(3)\n",
            "memory usage: 4.8+ MB\n",
            "None\n",
            "  symbol                                     account type          2020  \\\n",
            "0   AALI                            Accounts Payable   BS  7.702640e+11   \n",
            "1   AALI                         Accounts Receivable   BS  7.658490e+11   \n",
            "2   AALI                    Accumulated Depreciation   BS -1.092095e+13   \n",
            "3   AALI                  Additional Paid In Capital   BS  3.878995e+12   \n",
            "4   AALI  Allowance For Doubtful Accounts Receivable   BS -2.426100e+10   \n",
            "\n",
            "           2021          2022          2023  \n",
            "0  1.026717e+12  1.224423e+12  8.420640e+11  \n",
            "1  4.581350e+11  8.487700e+11  6.744870e+11  \n",
            "2 -1.213381e+13 -1.330375e+13 -1.443685e+13  \n",
            "3  3.878995e+12  3.878995e+12  3.878995e+12  \n",
            "4 -2.454300e+10 -2.705700e+10 -2.651600e+10  \n"
          ]
        }
      ],
      "source": [
        "import pandas as pd\n",
        "\n",
        "# Load the dataset\n",
        "df = pd.read_csv('/content/combined_financial_data_idx.csv')  # Correct path\n",
        "\n",
        "# Show basic info\n",
        "print(df.info())\n",
        "\n",
        "# See first few rows\n",
        "print(df.head())\n",
        "\n"
      ]
    },
    {
      "cell_type": "code",
      "source": [
        "# Show basic info\n",
        "print(df.info())\n",
        "\n",
        "# See first few rows\n",
        "print(df.head())\n"
      ],
      "metadata": {
        "colab": {
          "base_uri": "https://localhost:8080/"
        },
        "id": "phFHG3j3mqUy",
        "outputId": "7a4c1695-f17b-41b5-c858-8b2acc0d7d33"
      },
      "execution_count": 4,
      "outputs": [
        {
          "output_type": "stream",
          "name": "stdout",
          "text": [
            "<class 'pandas.core.frame.DataFrame'>\n",
            "RangeIndex: 89243 entries, 0 to 89242\n",
            "Data columns (total 7 columns):\n",
            " #   Column   Non-Null Count  Dtype  \n",
            "---  ------   --------------  -----  \n",
            " 0   symbol   89243 non-null  object \n",
            " 1   account  89243 non-null  object \n",
            " 2   type     89243 non-null  object \n",
            " 3   2020     83988 non-null  float64\n",
            " 4   2021     84474 non-null  float64\n",
            " 5   2022     83634 non-null  float64\n",
            " 6   2023     69831 non-null  float64\n",
            "dtypes: float64(4), object(3)\n",
            "memory usage: 4.8+ MB\n",
            "None\n",
            "  symbol                                     account type          2020  \\\n",
            "0   AALI                            Accounts Payable   BS  7.702640e+11   \n",
            "1   AALI                         Accounts Receivable   BS  7.658490e+11   \n",
            "2   AALI                    Accumulated Depreciation   BS -1.092095e+13   \n",
            "3   AALI                  Additional Paid In Capital   BS  3.878995e+12   \n",
            "4   AALI  Allowance For Doubtful Accounts Receivable   BS -2.426100e+10   \n",
            "\n",
            "           2021          2022          2023  \n",
            "0  1.026717e+12  1.224423e+12  8.420640e+11  \n",
            "1  4.581350e+11  8.487700e+11  6.744870e+11  \n",
            "2 -1.213381e+13 -1.330375e+13 -1.443685e+13  \n",
            "3  3.878995e+12  3.878995e+12  3.878995e+12  \n",
            "4 -2.454300e+10 -2.705700e+10 -2.651600e+10  \n"
          ]
        }
      ]
    },
    {
      "cell_type": "code",
      "source": [
        "# Check missing values\n",
        "print(df.isnull().sum())\n"
      ],
      "metadata": {
        "colab": {
          "base_uri": "https://localhost:8080/"
        },
        "id": "RGm-RRU1nGf7",
        "outputId": "0d8885a4-578f-4ca6-ed91-2432458561ee"
      },
      "execution_count": 5,
      "outputs": [
        {
          "output_type": "stream",
          "name": "stdout",
          "text": [
            "symbol         0\n",
            "account        0\n",
            "type           0\n",
            "2020        5255\n",
            "2021        4769\n",
            "2022        5609\n",
            "2023       19412\n",
            "dtype: int64\n"
          ]
        }
      ]
    },
    {
      "cell_type": "code",
      "source": [
        "# Drop rows with missing values\n",
        "df = df.dropna()\n"
      ],
      "metadata": {
        "id": "QiLg_MaLnJ6Y"
      },
      "execution_count": 7,
      "outputs": []
    },
    {
      "cell_type": "code",
      "source": [
        "# If there are 'Year' and 'Quarter' columns\n",
        "df['Quarter'] = df['Quarter'].astype(str)\n",
        "df['Year'] = df['Year'].astype(str)\n",
        "df['Date'] = df['Year'] + ' Q' + df['Quarter']\n",
        "\n",
        "# Now convert to datetime if possible\n",
        "# Or just leave it as Year+Quarter format for trend analysis\n"
      ],
      "metadata": {
        "colab": {
          "base_uri": "https://localhost:8080/",
          "height": 547
        },
        "id": "g9AJun6onM4b",
        "outputId": "03627f4b-1b5a-4910-e027-d5cd5816f1a6"
      },
      "execution_count": 8,
      "outputs": [
        {
          "output_type": "error",
          "ename": "KeyError",
          "evalue": "'Quarter'",
          "traceback": [
            "\u001b[0;31m---------------------------------------------------------------------------\u001b[0m",
            "\u001b[0;31mKeyError\u001b[0m                                  Traceback (most recent call last)",
            "\u001b[0;32m/usr/local/lib/python3.11/dist-packages/pandas/core/indexes/base.py\u001b[0m in \u001b[0;36mget_loc\u001b[0;34m(self, key)\u001b[0m\n\u001b[1;32m   3804\u001b[0m         \u001b[0;32mtry\u001b[0m\u001b[0;34m:\u001b[0m\u001b[0;34m\u001b[0m\u001b[0;34m\u001b[0m\u001b[0m\n\u001b[0;32m-> 3805\u001b[0;31m             \u001b[0;32mreturn\u001b[0m \u001b[0mself\u001b[0m\u001b[0;34m.\u001b[0m\u001b[0m_engine\u001b[0m\u001b[0;34m.\u001b[0m\u001b[0mget_loc\u001b[0m\u001b[0;34m(\u001b[0m\u001b[0mcasted_key\u001b[0m\u001b[0;34m)\u001b[0m\u001b[0;34m\u001b[0m\u001b[0;34m\u001b[0m\u001b[0m\n\u001b[0m\u001b[1;32m   3806\u001b[0m         \u001b[0;32mexcept\u001b[0m \u001b[0mKeyError\u001b[0m \u001b[0;32mas\u001b[0m \u001b[0merr\u001b[0m\u001b[0;34m:\u001b[0m\u001b[0;34m\u001b[0m\u001b[0;34m\u001b[0m\u001b[0m\n",
            "\u001b[0;32mindex.pyx\u001b[0m in \u001b[0;36mpandas._libs.index.IndexEngine.get_loc\u001b[0;34m()\u001b[0m\n",
            "\u001b[0;32mindex.pyx\u001b[0m in \u001b[0;36mpandas._libs.index.IndexEngine.get_loc\u001b[0;34m()\u001b[0m\n",
            "\u001b[0;32mpandas/_libs/hashtable_class_helper.pxi\u001b[0m in \u001b[0;36mpandas._libs.hashtable.PyObjectHashTable.get_item\u001b[0;34m()\u001b[0m\n",
            "\u001b[0;32mpandas/_libs/hashtable_class_helper.pxi\u001b[0m in \u001b[0;36mpandas._libs.hashtable.PyObjectHashTable.get_item\u001b[0;34m()\u001b[0m\n",
            "\u001b[0;31mKeyError\u001b[0m: 'Quarter'",
            "\nThe above exception was the direct cause of the following exception:\n",
            "\u001b[0;31mKeyError\u001b[0m                                  Traceback (most recent call last)",
            "\u001b[0;32m<ipython-input-8-1b96578f4818>\u001b[0m in \u001b[0;36m<cell line: 0>\u001b[0;34m()\u001b[0m\n\u001b[1;32m      1\u001b[0m \u001b[0;31m# If there are 'Year' and 'Quarter' columns\u001b[0m\u001b[0;34m\u001b[0m\u001b[0;34m\u001b[0m\u001b[0m\n\u001b[0;32m----> 2\u001b[0;31m \u001b[0mdf\u001b[0m\u001b[0;34m[\u001b[0m\u001b[0;34m'Quarter'\u001b[0m\u001b[0;34m]\u001b[0m \u001b[0;34m=\u001b[0m \u001b[0mdf\u001b[0m\u001b[0;34m[\u001b[0m\u001b[0;34m'Quarter'\u001b[0m\u001b[0;34m]\u001b[0m\u001b[0;34m.\u001b[0m\u001b[0mastype\u001b[0m\u001b[0;34m(\u001b[0m\u001b[0mstr\u001b[0m\u001b[0;34m)\u001b[0m\u001b[0;34m\u001b[0m\u001b[0;34m\u001b[0m\u001b[0m\n\u001b[0m\u001b[1;32m      3\u001b[0m \u001b[0mdf\u001b[0m\u001b[0;34m[\u001b[0m\u001b[0;34m'Year'\u001b[0m\u001b[0;34m]\u001b[0m \u001b[0;34m=\u001b[0m \u001b[0mdf\u001b[0m\u001b[0;34m[\u001b[0m\u001b[0;34m'Year'\u001b[0m\u001b[0;34m]\u001b[0m\u001b[0;34m.\u001b[0m\u001b[0mastype\u001b[0m\u001b[0;34m(\u001b[0m\u001b[0mstr\u001b[0m\u001b[0;34m)\u001b[0m\u001b[0;34m\u001b[0m\u001b[0;34m\u001b[0m\u001b[0m\n\u001b[1;32m      4\u001b[0m \u001b[0mdf\u001b[0m\u001b[0;34m[\u001b[0m\u001b[0;34m'Date'\u001b[0m\u001b[0;34m]\u001b[0m \u001b[0;34m=\u001b[0m \u001b[0mdf\u001b[0m\u001b[0;34m[\u001b[0m\u001b[0;34m'Year'\u001b[0m\u001b[0;34m]\u001b[0m \u001b[0;34m+\u001b[0m \u001b[0;34m' Q'\u001b[0m \u001b[0;34m+\u001b[0m \u001b[0mdf\u001b[0m\u001b[0;34m[\u001b[0m\u001b[0;34m'Quarter'\u001b[0m\u001b[0;34m]\u001b[0m\u001b[0;34m\u001b[0m\u001b[0;34m\u001b[0m\u001b[0m\n\u001b[1;32m      5\u001b[0m \u001b[0;34m\u001b[0m\u001b[0m\n",
            "\u001b[0;32m/usr/local/lib/python3.11/dist-packages/pandas/core/frame.py\u001b[0m in \u001b[0;36m__getitem__\u001b[0;34m(self, key)\u001b[0m\n\u001b[1;32m   4100\u001b[0m             \u001b[0;32mif\u001b[0m \u001b[0mself\u001b[0m\u001b[0;34m.\u001b[0m\u001b[0mcolumns\u001b[0m\u001b[0;34m.\u001b[0m\u001b[0mnlevels\u001b[0m \u001b[0;34m>\u001b[0m \u001b[0;36m1\u001b[0m\u001b[0;34m:\u001b[0m\u001b[0;34m\u001b[0m\u001b[0;34m\u001b[0m\u001b[0m\n\u001b[1;32m   4101\u001b[0m                 \u001b[0;32mreturn\u001b[0m \u001b[0mself\u001b[0m\u001b[0;34m.\u001b[0m\u001b[0m_getitem_multilevel\u001b[0m\u001b[0;34m(\u001b[0m\u001b[0mkey\u001b[0m\u001b[0;34m)\u001b[0m\u001b[0;34m\u001b[0m\u001b[0;34m\u001b[0m\u001b[0m\n\u001b[0;32m-> 4102\u001b[0;31m             \u001b[0mindexer\u001b[0m \u001b[0;34m=\u001b[0m \u001b[0mself\u001b[0m\u001b[0;34m.\u001b[0m\u001b[0mcolumns\u001b[0m\u001b[0;34m.\u001b[0m\u001b[0mget_loc\u001b[0m\u001b[0;34m(\u001b[0m\u001b[0mkey\u001b[0m\u001b[0;34m)\u001b[0m\u001b[0;34m\u001b[0m\u001b[0;34m\u001b[0m\u001b[0m\n\u001b[0m\u001b[1;32m   4103\u001b[0m             \u001b[0;32mif\u001b[0m \u001b[0mis_integer\u001b[0m\u001b[0;34m(\u001b[0m\u001b[0mindexer\u001b[0m\u001b[0;34m)\u001b[0m\u001b[0;34m:\u001b[0m\u001b[0;34m\u001b[0m\u001b[0;34m\u001b[0m\u001b[0m\n\u001b[1;32m   4104\u001b[0m                 \u001b[0mindexer\u001b[0m \u001b[0;34m=\u001b[0m \u001b[0;34m[\u001b[0m\u001b[0mindexer\u001b[0m\u001b[0;34m]\u001b[0m\u001b[0;34m\u001b[0m\u001b[0;34m\u001b[0m\u001b[0m\n",
            "\u001b[0;32m/usr/local/lib/python3.11/dist-packages/pandas/core/indexes/base.py\u001b[0m in \u001b[0;36mget_loc\u001b[0;34m(self, key)\u001b[0m\n\u001b[1;32m   3810\u001b[0m             ):\n\u001b[1;32m   3811\u001b[0m                 \u001b[0;32mraise\u001b[0m \u001b[0mInvalidIndexError\u001b[0m\u001b[0;34m(\u001b[0m\u001b[0mkey\u001b[0m\u001b[0;34m)\u001b[0m\u001b[0;34m\u001b[0m\u001b[0;34m\u001b[0m\u001b[0m\n\u001b[0;32m-> 3812\u001b[0;31m             \u001b[0;32mraise\u001b[0m \u001b[0mKeyError\u001b[0m\u001b[0;34m(\u001b[0m\u001b[0mkey\u001b[0m\u001b[0;34m)\u001b[0m \u001b[0;32mfrom\u001b[0m \u001b[0merr\u001b[0m\u001b[0;34m\u001b[0m\u001b[0;34m\u001b[0m\u001b[0m\n\u001b[0m\u001b[1;32m   3813\u001b[0m         \u001b[0;32mexcept\u001b[0m \u001b[0mTypeError\u001b[0m\u001b[0;34m:\u001b[0m\u001b[0;34m\u001b[0m\u001b[0;34m\u001b[0m\u001b[0m\n\u001b[1;32m   3814\u001b[0m             \u001b[0;31m# If we have a listlike key, _check_indexing_error will raise\u001b[0m\u001b[0;34m\u001b[0m\u001b[0;34m\u001b[0m\u001b[0m\n",
            "\u001b[0;31mKeyError\u001b[0m: 'Quarter'"
          ]
        }
      ]
    },
    {
      "cell_type": "code",
      "source": [
        "# See column names\n",
        "print(df.columns)\n"
      ],
      "metadata": {
        "colab": {
          "base_uri": "https://localhost:8080/"
        },
        "id": "a6zxNh_NnTzH",
        "outputId": "ee5c1801-2629-40de-cd5e-5b154d10bd5d"
      },
      "execution_count": 9,
      "outputs": [
        {
          "output_type": "stream",
          "name": "stdout",
          "text": [
            "Index(['symbol', 'account', 'type', '2020', '2021', '2022', '2023'], dtype='object')\n"
          ]
        }
      ]
    },
    {
      "cell_type": "code",
      "source": [
        "# Reshape the data\n",
        "df_melted = pd.melt(df, id_vars=['symbol', 'account', 'type'],\n",
        "                    value_vars=['2020', '2021', '2022', '2023'],\n",
        "                    var_name='year', value_name='value')\n",
        "\n",
        "# Check result\n",
        "print(df_melted.head())\n"
      ],
      "metadata": {
        "colab": {
          "base_uri": "https://localhost:8080/"
        },
        "id": "LQpJpYnvndKH",
        "outputId": "409a0a34-7a0f-422c-9684-2cb0b9b76643"
      },
      "execution_count": 10,
      "outputs": [
        {
          "output_type": "stream",
          "name": "stdout",
          "text": [
            "  symbol                                     account type  year         value\n",
            "0   AALI                            Accounts Payable   BS  2020  7.702640e+11\n",
            "1   AALI                         Accounts Receivable   BS  2020  7.658490e+11\n",
            "2   AALI                    Accumulated Depreciation   BS  2020 -1.092095e+13\n",
            "3   AALI                  Additional Paid In Capital   BS  2020  3.878995e+12\n",
            "4   AALI  Allowance For Doubtful Accounts Receivable   BS  2020 -2.426100e+10\n"
          ]
        }
      ]
    },
    {
      "cell_type": "code",
      "source": [
        "# Convert 'year' to integer\n",
        "df_melted['year'] = df_melted['year'].astype(int)\n",
        "\n",
        "# Convert 'value' to numeric (if not already)\n",
        "df_melted['value'] = pd.to_numeric(df_melted['value'], errors='coerce')\n"
      ],
      "metadata": {
        "id": "TRKb0lognlfv"
      },
      "execution_count": 13,
      "outputs": []
    },
    {
      "cell_type": "code",
      "source": [
        "# Check missing values\n",
        "print(df_melted.isnull().sum())\n"
      ],
      "metadata": {
        "colab": {
          "base_uri": "https://localhost:8080/"
        },
        "id": "OK_ScE89npTy",
        "outputId": "15920a51-c5fd-4bf1-ed4c-c3b90fc00acb"
      },
      "execution_count": 14,
      "outputs": [
        {
          "output_type": "stream",
          "name": "stdout",
          "text": [
            "symbol     0\n",
            "account    0\n",
            "type       0\n",
            "year       0\n",
            "value      0\n",
            "dtype: int64\n"
          ]
        }
      ]
    },
    {
      "cell_type": "code",
      "source": [
        "# Save the cleaned and melted dataset\n",
        "df_melted.to_csv('/content/cleaned_financial_data.csv', index=False)\n"
      ],
      "metadata": {
        "id": "GdgcG7-6nwbO"
      },
      "execution_count": 16,
      "outputs": []
    },
    {
      "cell_type": "code",
      "source": [
        "# Filter Revenue\n",
        "revenue_df = df_melted[df_melted['account'].str.contains('Revenue', case=False)]\n",
        "\n",
        "# Filter Net Profit\n",
        "net_profit_df = df_melted[df_melted['account'].str.contains('Net Income|Net Profit', case=False, na=False)]\n",
        "\n",
        "# Filter Total Assets\n",
        "assets_df = df_melted[df_melted['account'].str.contains('Total Asset', case=False, na=False)]\n",
        "\n",
        "# Filter Total Liabilities\n",
        "liabilities_df = df_melted[df_melted['account'].str.contains('Total Liabilities', case=False, na=False)]\n"
      ],
      "metadata": {
        "id": "1bV_UxKJoCvz"
      },
      "execution_count": 17,
      "outputs": []
    },
    {
      "cell_type": "code",
      "source": [
        "print(revenue_df.head())\n",
        "print(net_profit_df.head())\n",
        "print(assets_df.head())\n",
        "print(liabilities_df.head())\n"
      ],
      "metadata": {
        "colab": {
          "base_uri": "https://localhost:8080/"
        },
        "id": "ARck9cxwoF_5",
        "outputId": "b67183c9-40b9-4671-f129-7b53a13b8a14"
      },
      "execution_count": 18,
      "outputs": [
        {
          "output_type": "stream",
          "name": "stdout",
          "text": [
            "    symbol                     account type  year         value\n",
            "24    AALI             Cost Of Revenue   IS  2020  1.584415e+13\n",
            "88    AALI           Operating Revenue   IS  2020  1.880704e+13\n",
            "111   AALI  Reconciled Cost Of Revenue   IS  2020  1.584415e+13\n",
            "135   AALI               Total Revenue   IS  2020  1.880704e+13\n",
            "163   ABBA             Cost Of Revenue   IS  2020  8.206386e+10\n",
            "   symbol                                            account type  year  \\\n",
            "68   AALI                                         Net Income   IS  2020   \n",
            "69   AALI                     Net Income Common Stockholders   IS  2020   \n",
            "70   AALI                   Net Income Continuous Operations   IS  2020   \n",
            "71   AALI  Net Income From Continuing And Discontinued Op...   IS  2020   \n",
            "72   AALI  Net Income From Continuing Operation Net Minor...   IS  2020   \n",
            "\n",
            "           value  \n",
            "68  8.330900e+11  \n",
            "69  8.330900e+11  \n",
            "70  8.937790e+11  \n",
            "71  8.330900e+11  \n",
            "72  8.330900e+11  \n",
            "    symbol       account type  year         value\n",
            "126   AALI  Total Assets   BS  2020  2.778123e+13\n",
            "267   ABBA  Total Assets   BS  2020  2.216507e+11\n",
            "355   ABDA  Total Assets   BS  2020  2.477782e+12\n",
            "507   ABMM  Total Assets   BS  2020  8.272372e+08\n",
            "637   ACES  Total Assets   BS  2020  7.216725e+12\n",
            "    symbol                                  account type  year         value\n",
            "131   AALI  Total Liabilities Net Minority Interest   BS  2020  8.533437e+12\n",
            "272   ABBA  Total Liabilities Net Minority Interest   BS  2020  3.253600e+11\n",
            "359   ABDA  Total Liabilities Net Minority Interest   BS  2020  1.090546e+12\n",
            "512   ABMM  Total Liabilities Net Minority Interest   BS  2020  6.654880e+08\n",
            "642   ACES  Total Liabilities Net Minority Interest   BS  2020  1.873127e+12\n"
          ]
        }
      ]
    },
    {
      "cell_type": "code",
      "source": [
        "# Pivot Revenue\n",
        "revenue_pivot = revenue_df.pivot_table(index='symbol', columns='year', values='value')\n",
        "\n",
        "# Calculate Revenue Growth\n",
        "revenue_pivot['Revenue Growth (%)'] = ((revenue_pivot[2023] - revenue_pivot[2022]) / revenue_pivot[2022]) * 100\n",
        "\n",
        "# View it\n",
        "print(revenue_pivot[['Revenue Growth (%)']].head())\n"
      ],
      "metadata": {
        "colab": {
          "base_uri": "https://localhost:8080/"
        },
        "id": "ZoFJMbwqoPJA",
        "outputId": "f49ca1f3-d7e0-4769-ba97-f475c53811fe"
      },
      "execution_count": 19,
      "outputs": [
        {
          "output_type": "stream",
          "name": "stdout",
          "text": [
            "year    Revenue Growth (%)\n",
            "symbol                    \n",
            "AALI             -2.799290\n",
            "ABBA             26.539377\n",
            "ABDA             15.484082\n",
            "ABMM              9.488684\n",
            "ACES             12.361398\n"
          ]
        }
      ]
    },
    {
      "cell_type": "code",
      "source": [
        "# Merge Revenue and Net Profit for 2023\n",
        "revenue_2023 = revenue_df[revenue_df['year'] == 2023][['symbol', 'value']].rename(columns={'value': 'revenue_2023'})\n",
        "profit_2023 = net_profit_df[net_profit_df['year'] == 2023][['symbol', 'value']].rename(columns={'value': 'profit_2023'})\n",
        "\n",
        "merged_profit = pd.merge(profit_2023, revenue_2023, on='symbol')\n",
        "\n",
        "# Calculate Net Profit Margin\n",
        "merged_profit['Net Profit Margin (%)'] = (merged_profit['profit_2023'] / merged_profit['revenue_2023']) * 100\n",
        "\n",
        "# View\n",
        "print(merged_profit[['symbol', 'Net Profit Margin (%)']].head())\n"
      ],
      "metadata": {
        "colab": {
          "base_uri": "https://localhost:8080/"
        },
        "id": "SVFcloHSoR0o",
        "outputId": "89e0c202-9c4e-4d24-ab3f-6605527e4e00"
      },
      "execution_count": 20,
      "outputs": [
        {
          "output_type": "stream",
          "name": "stdout",
          "text": [
            "  symbol  Net Profit Margin (%)\n",
            "0   AALI               5.874419\n",
            "1   AALI               5.089771\n",
            "2   AALI               5.874419\n",
            "3   AALI               5.089771\n",
            "4   AALI               5.874419\n"
          ]
        }
      ]
    },
    {
      "cell_type": "code",
      "source": [
        "# Merge Assets and Liabilities for 2023\n",
        "assets_2023 = assets_df[assets_df['year'] == 2023][['symbol', 'value']].rename(columns={'value': 'assets_2023'})\n",
        "liabilities_2023 = liabilities_df[liabilities_df['year'] == 2023][['symbol', 'value']].rename(columns={'value': 'liabilities_2023'})\n",
        "\n",
        "merged_debt = pd.merge(liabilities_2023, assets_2023, on='symbol')\n",
        "\n",
        "# Calculate Debt to Asset Ratio\n",
        "merged_debt['Debt to Asset Ratio'] = merged_debt['liabilities_2023'] / merged_debt['assets_2023']\n",
        "\n",
        "# View\n",
        "print(merged_debt[['symbol', 'Debt to Asset Ratio']].head())\n"
      ],
      "metadata": {
        "colab": {
          "base_uri": "https://localhost:8080/"
        },
        "id": "rG1GwdS_oUQf",
        "outputId": "48703656-c184-40dc-f4f6-99a26a69244b"
      },
      "execution_count": 21,
      "outputs": [
        {
          "output_type": "stream",
          "name": "stdout",
          "text": [
            "  symbol  Debt to Asset Ratio\n",
            "0   AALI             0.217714\n",
            "1   ABBA             1.390180\n",
            "2   ABDA             0.418694\n",
            "3   ABMM             0.648105\n",
            "4   ACES             0.202092\n"
          ]
        }
      ]
    },
    {
      "cell_type": "code",
      "source": [
        "# Merge Revenue Growth and Net Profit Margin\n",
        "kpi_merged = pd.merge(revenue_pivot[['Revenue Growth (%)']].reset_index(),\n",
        "                      merged_profit[['symbol', 'Net Profit Margin (%)']], on='symbol')\n",
        "\n",
        "# Merge with Debt to Asset Ratio\n",
        "kpi_merged = pd.merge(kpi_merged,\n",
        "                      merged_debt[['symbol', 'Debt to Asset Ratio']], on='symbol')\n",
        "\n",
        "# View Final KPI table\n",
        "print(kpi_merged.head())\n"
      ],
      "metadata": {
        "colab": {
          "base_uri": "https://localhost:8080/"
        },
        "id": "Xe7tNOKKorUr",
        "outputId": "3405f36c-d36f-44e7-b136-fc26d3a1a248"
      },
      "execution_count": 22,
      "outputs": [
        {
          "output_type": "stream",
          "name": "stdout",
          "text": [
            "  symbol  Revenue Growth (%)  Net Profit Margin (%)  Debt to Asset Ratio\n",
            "0   AALI            -2.79929               5.874419             0.217714\n",
            "1   AALI            -2.79929               5.089771             0.217714\n",
            "2   AALI            -2.79929               5.874419             0.217714\n",
            "3   AALI            -2.79929               5.089771             0.217714\n",
            "4   AALI            -2.79929               5.874419             0.217714\n"
          ]
        }
      ]
    },
    {
      "cell_type": "code",
      "source": [
        "# Save final KPI table\n",
        "kpi_merged.to_csv('/content/final_financial_kpis.csv', index=False)\n"
      ],
      "metadata": {
        "id": "-NH1bcaKoyJ6"
      },
      "execution_count": 23,
      "outputs": []
    }
  ]
}